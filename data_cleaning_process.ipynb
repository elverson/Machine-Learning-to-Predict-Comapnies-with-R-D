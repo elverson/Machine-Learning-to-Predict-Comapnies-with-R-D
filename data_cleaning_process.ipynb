{
 "cells": [
  {
   "cell_type": "code",
   "execution_count": 1,
   "metadata": {},
   "outputs": [
    {
     "data": {
      "text/plain": [
       "60"
      ]
     },
     "execution_count": 1,
     "metadata": {},
     "output_type": "execute_result"
    }
   ],
   "source": [
    "import pandas as pd\n",
    "import numpy as np\n",
    "import matplotlib.pyplot as plt\n",
    "import seaborn as sns\n",
    "from sklearn.preprocessing import LabelEncoder\n",
    "from sklearn.model_selection import KFold, train_test_split\n",
    "from sklearn.metrics import precision_recall_fscore_support,roc_auc_score\n",
    "import lightgbm as lgb\n",
    "from tqdm import tqdm_notebook\n",
    "import joblib\n",
    "import warnings\n",
    "warnings.filterwarnings(\"ignore\")\n",
    "pd.options.display.max_rows"
   ]
  },
  {
   "cell_type": "code",
   "execution_count": 2,
   "metadata": {},
   "outputs": [],
   "source": [
    "path = r'C:\\\\Users\\\\lixue\\\\OneDrive\\\\Desktop\\\\smu\\\\MQF\\\\Quantitative Research\\\\project_part2\\\\'\n",
    "#df = pd.read_csv(path+'yearly_data.csv')\n",
    "year = '2020'\n",
    "df = pd.read_excel(path+year+'.xlsx')"
   ]
  },
  {
   "cell_type": "code",
   "execution_count": 3,
   "metadata": {},
   "outputs": [],
   "source": [
    "'''\n",
    "cols = df.iloc[0,:]\n",
    "df.set_axis(cols,axis=1,inplace=True)\n",
    "df = df.iloc[1:,:]\n",
    "df.reset_index(drop=True,inplace=True)\n",
    "'''\n",
    "df['RnD_OVER_TA'] = pd.to_numeric(df['RnD_OVER_TA'], errors='coerce')\n",
    "df.columns.values[0] = \"company\"\n",
    "df.replace('(Invalid Identifier)', np.nan,inplace=True)\n",
    "df.replace('NM', np.nan,inplace=True)\n",
    "df.replace('', np.nan,inplace=True)\n",
    "df.replace(' ', np.nan,inplace=True)\n",
    "tmp = np.where(df['RnD_OVER_TA']>0,1,0)\n",
    "df.replace('0', np.nan,inplace=True)\n",
    "df.replace(0, np.nan,inplace=True)\n",
    "df['RnD_OVER_TA_CAT'] = tmp\n",
    "company_tmp = df['company']"
   ]
  },
  {
   "cell_type": "code",
   "execution_count": 4,
   "metadata": {},
   "outputs": [
    {
     "data": {
      "text/html": [
       "<div>\n",
       "<style scoped>\n",
       "    .dataframe tbody tr th:only-of-type {\n",
       "        vertical-align: middle;\n",
       "    }\n",
       "\n",
       "    .dataframe tbody tr th {\n",
       "        vertical-align: top;\n",
       "    }\n",
       "\n",
       "    .dataframe thead th {\n",
       "        text-align: right;\n",
       "    }\n",
       "</style>\n",
       "<table border=\"1\" class=\"dataframe\">\n",
       "  <thead>\n",
       "    <tr style=\"text-align: right;\">\n",
       "      <th></th>\n",
       "      <th>IQ_RD_EXP</th>\n",
       "      <th>IQ_TOTAL_ASSETS</th>\n",
       "      <th>RnD_OVER_TA</th>\n",
       "      <th>IQ_RETURN_ASSETS</th>\n",
       "      <th>IQ_RETURN_CAPITAL</th>\n",
       "      <th>IQ_RETURN_EQUITY</th>\n",
       "      <th>IQ_RETURN_INVESTED_CAPITAL</th>\n",
       "      <th>IQ_RETURN_COMMON_EQUITY</th>\n",
       "      <th>IQ_GROSS_MARGIN</th>\n",
       "      <th>IQ_EBITDA_MARGIN</th>\n",
       "      <th>...</th>\n",
       "      <th>IQ_GP_3YR_ANN_CAGR</th>\n",
       "      <th>IQ_EBITDA_3YR_ANN_CAGR</th>\n",
       "      <th>IQ_EARNING_CO_3YR_ANN_CAGR</th>\n",
       "      <th>IQ_NI_3YR_ANN_CAGR</th>\n",
       "      <th>IQ_EPS_3YR_ANN_CAGR</th>\n",
       "      <th>IQ_ACCT_RECV_3YR_ANN_CAGR</th>\n",
       "      <th>IQ_NPPE_3YR_ANN_CAGR</th>\n",
       "      <th>IQ_COMMON_EQUITY_3YR_ANN_CAGR</th>\n",
       "      <th>IQ_TOTAL_ASSETS_3YR_ANN_CAGR</th>\n",
       "      <th>RnD_OVER_TA_CAT</th>\n",
       "    </tr>\n",
       "  </thead>\n",
       "  <tbody>\n",
       "    <tr>\n",
       "      <th>count</th>\n",
       "      <td>1.246000e+03</td>\n",
       "      <td>4.292000e+03</td>\n",
       "      <td>1246.000000</td>\n",
       "      <td>4135.000000</td>\n",
       "      <td>3628.000000</td>\n",
       "      <td>3951.000000</td>\n",
       "      <td>3626.000000</td>\n",
       "      <td>3751.000000</td>\n",
       "      <td>3626.000000</td>\n",
       "      <td>3108.000000</td>\n",
       "      <td>...</td>\n",
       "      <td>3015.000000</td>\n",
       "      <td>2230.000000</td>\n",
       "      <td>2087.000000</td>\n",
       "      <td>2062.000000</td>\n",
       "      <td>2012.000000</td>\n",
       "      <td>2973.000000</td>\n",
       "      <td>2724.000000</td>\n",
       "      <td>3240.000000</td>\n",
       "      <td>3580.000000</td>\n",
       "      <td>4647.000000</td>\n",
       "    </tr>\n",
       "    <tr>\n",
       "      <th>mean</th>\n",
       "      <td>3.288792e+03</td>\n",
       "      <td>1.001001e+06</td>\n",
       "      <td>0.226338</td>\n",
       "      <td>-3.840734</td>\n",
       "      <td>-4.456946</td>\n",
       "      <td>-46.883132</td>\n",
       "      <td>-19.703648</td>\n",
       "      <td>-3.766811</td>\n",
       "      <td>47.020922</td>\n",
       "      <td>10.336410</td>\n",
       "      <td>...</td>\n",
       "      <td>7.703625</td>\n",
       "      <td>6.612572</td>\n",
       "      <td>13.594303</td>\n",
       "      <td>14.567916</td>\n",
       "      <td>13.453162</td>\n",
       "      <td>9.649260</td>\n",
       "      <td>28.361572</td>\n",
       "      <td>10.602573</td>\n",
       "      <td>16.517664</td>\n",
       "      <td>0.268130</td>\n",
       "    </tr>\n",
       "    <tr>\n",
       "      <th>std</th>\n",
       "      <td>4.260579e+04</td>\n",
       "      <td>1.813078e+07</td>\n",
       "      <td>3.326316</td>\n",
       "      <td>205.380205</td>\n",
       "      <td>171.945650</td>\n",
       "      <td>1956.118739</td>\n",
       "      <td>313.144686</td>\n",
       "      <td>245.299627</td>\n",
       "      <td>37.835637</td>\n",
       "      <td>43.174589</td>\n",
       "      <td>...</td>\n",
       "      <td>45.425150</td>\n",
       "      <td>36.765729</td>\n",
       "      <td>51.720530</td>\n",
       "      <td>54.331970</td>\n",
       "      <td>55.633132</td>\n",
       "      <td>41.032386</td>\n",
       "      <td>66.148349</td>\n",
       "      <td>61.208546</td>\n",
       "      <td>95.760130</td>\n",
       "      <td>0.443033</td>\n",
       "    </tr>\n",
       "    <tr>\n",
       "      <th>min</th>\n",
       "      <td>1.931900e-01</td>\n",
       "      <td>2.500000e-02</td>\n",
       "      <td>0.000178</td>\n",
       "      <td>-13071.427900</td>\n",
       "      <td>-9698.086300</td>\n",
       "      <td>-120922.000000</td>\n",
       "      <td>-16731.270300</td>\n",
       "      <td>-3242.205100</td>\n",
       "      <td>-299.940100</td>\n",
       "      <td>-284.960700</td>\n",
       "      <td>...</td>\n",
       "      <td>-75.306100</td>\n",
       "      <td>-91.608100</td>\n",
       "      <td>-86.451500</td>\n",
       "      <td>-88.863900</td>\n",
       "      <td>-92.662800</td>\n",
       "      <td>-87.243200</td>\n",
       "      <td>-87.880800</td>\n",
       "      <td>-85.793900</td>\n",
       "      <td>-47.772200</td>\n",
       "      <td>0.000000</td>\n",
       "    </tr>\n",
       "    <tr>\n",
       "      <th>25%</th>\n",
       "      <td>2.260725e+01</td>\n",
       "      <td>5.748545e+02</td>\n",
       "      <td>0.023680</td>\n",
       "      <td>-0.608700</td>\n",
       "      <td>-1.417575</td>\n",
       "      <td>-11.680700</td>\n",
       "      <td>-11.379850</td>\n",
       "      <td>-9.583600</td>\n",
       "      <td>25.782000</td>\n",
       "      <td>4.085575</td>\n",
       "      <td>...</td>\n",
       "      <td>-4.076350</td>\n",
       "      <td>-6.200250</td>\n",
       "      <td>-9.783150</td>\n",
       "      <td>-9.069600</td>\n",
       "      <td>-9.606100</td>\n",
       "      <td>-5.173900</td>\n",
       "      <td>3.737225</td>\n",
       "      <td>-2.689775</td>\n",
       "      <td>0.332300</td>\n",
       "      <td>0.000000</td>\n",
       "    </tr>\n",
       "    <tr>\n",
       "      <th>50%</th>\n",
       "      <td>6.135000e+01</td>\n",
       "      <td>2.324807e+03</td>\n",
       "      <td>0.063912</td>\n",
       "      <td>1.802400</td>\n",
       "      <td>2.806200</td>\n",
       "      <td>4.403800</td>\n",
       "      <td>-0.860850</td>\n",
       "      <td>5.047700</td>\n",
       "      <td>44.380000</td>\n",
       "      <td>14.153050</td>\n",
       "      <td>...</td>\n",
       "      <td>3.169700</td>\n",
       "      <td>3.601200</td>\n",
       "      <td>6.413800</td>\n",
       "      <td>6.682900</td>\n",
       "      <td>6.222550</td>\n",
       "      <td>3.798900</td>\n",
       "      <td>13.324600</td>\n",
       "      <td>4.679100</td>\n",
       "      <td>7.019300</td>\n",
       "      <td>0.000000</td>\n",
       "    </tr>\n",
       "    <tr>\n",
       "      <th>75%</th>\n",
       "      <td>1.949967e+02</td>\n",
       "      <td>1.029055e+04</td>\n",
       "      <td>0.138377</td>\n",
       "      <td>4.455050</td>\n",
       "      <td>6.637500</td>\n",
       "      <td>12.074800</td>\n",
       "      <td>5.279025</td>\n",
       "      <td>12.566400</td>\n",
       "      <td>71.238700</td>\n",
       "      <td>28.524150</td>\n",
       "      <td>...</td>\n",
       "      <td>11.904200</td>\n",
       "      <td>15.084825</td>\n",
       "      <td>23.217250</td>\n",
       "      <td>22.791775</td>\n",
       "      <td>22.167975</td>\n",
       "      <td>15.207600</td>\n",
       "      <td>35.031100</td>\n",
       "      <td>14.133350</td>\n",
       "      <td>17.093800</td>\n",
       "      <td>1.000000</td>\n",
       "    </tr>\n",
       "    <tr>\n",
       "      <th>max</th>\n",
       "      <td>1.098736e+06</td>\n",
       "      <td>6.107199e+08</td>\n",
       "      <td>114.509385</td>\n",
       "      <td>669.371900</td>\n",
       "      <td>1696.628300</td>\n",
       "      <td>6575.944000</td>\n",
       "      <td>2714.605400</td>\n",
       "      <td>10794.227300</td>\n",
       "      <td>100.119400</td>\n",
       "      <td>131.689900</td>\n",
       "      <td>...</td>\n",
       "      <td>1786.056700</td>\n",
       "      <td>922.251200</td>\n",
       "      <td>619.867100</td>\n",
       "      <td>617.505700</td>\n",
       "      <td>627.952200</td>\n",
       "      <td>709.623700</td>\n",
       "      <td>1867.387800</td>\n",
       "      <td>2126.072300</td>\n",
       "      <td>4759.050700</td>\n",
       "      <td>1.000000</td>\n",
       "    </tr>\n",
       "  </tbody>\n",
       "</table>\n",
       "<p>8 rows × 62 columns</p>\n",
       "</div>"
      ],
      "text/plain": [
       "          IQ_RD_EXP  IQ_TOTAL_ASSETS  RnD_OVER_TA  IQ_RETURN_ASSETS  \\\n",
       "count  1.246000e+03     4.292000e+03  1246.000000       4135.000000   \n",
       "mean   3.288792e+03     1.001001e+06     0.226338         -3.840734   \n",
       "std    4.260579e+04     1.813078e+07     3.326316        205.380205   \n",
       "min    1.931900e-01     2.500000e-02     0.000178     -13071.427900   \n",
       "25%    2.260725e+01     5.748545e+02     0.023680         -0.608700   \n",
       "50%    6.135000e+01     2.324807e+03     0.063912          1.802400   \n",
       "75%    1.949967e+02     1.029055e+04     0.138377          4.455050   \n",
       "max    1.098736e+06     6.107199e+08   114.509385        669.371900   \n",
       "\n",
       "       IQ_RETURN_CAPITAL  IQ_RETURN_EQUITY  IQ_RETURN_INVESTED_CAPITAL  \\\n",
       "count        3628.000000       3951.000000                 3626.000000   \n",
       "mean           -4.456946        -46.883132                  -19.703648   \n",
       "std           171.945650       1956.118739                  313.144686   \n",
       "min         -9698.086300    -120922.000000               -16731.270300   \n",
       "25%            -1.417575        -11.680700                  -11.379850   \n",
       "50%             2.806200          4.403800                   -0.860850   \n",
       "75%             6.637500         12.074800                    5.279025   \n",
       "max          1696.628300       6575.944000                 2714.605400   \n",
       "\n",
       "       IQ_RETURN_COMMON_EQUITY  IQ_GROSS_MARGIN  IQ_EBITDA_MARGIN  ...  \\\n",
       "count              3751.000000      3626.000000       3108.000000  ...   \n",
       "mean                 -3.766811        47.020922         10.336410  ...   \n",
       "std                 245.299627        37.835637         43.174589  ...   \n",
       "min               -3242.205100      -299.940100       -284.960700  ...   \n",
       "25%                  -9.583600        25.782000          4.085575  ...   \n",
       "50%                   5.047700        44.380000         14.153050  ...   \n",
       "75%                  12.566400        71.238700         28.524150  ...   \n",
       "max               10794.227300       100.119400        131.689900  ...   \n",
       "\n",
       "       IQ_GP_3YR_ANN_CAGR  IQ_EBITDA_3YR_ANN_CAGR  IQ_EARNING_CO_3YR_ANN_CAGR  \\\n",
       "count         3015.000000             2230.000000                 2087.000000   \n",
       "mean             7.703625                6.612572                   13.594303   \n",
       "std             45.425150               36.765729                   51.720530   \n",
       "min            -75.306100              -91.608100                  -86.451500   \n",
       "25%             -4.076350               -6.200250                   -9.783150   \n",
       "50%              3.169700                3.601200                    6.413800   \n",
       "75%             11.904200               15.084825                   23.217250   \n",
       "max           1786.056700              922.251200                  619.867100   \n",
       "\n",
       "       IQ_NI_3YR_ANN_CAGR  IQ_EPS_3YR_ANN_CAGR  IQ_ACCT_RECV_3YR_ANN_CAGR  \\\n",
       "count         2062.000000          2012.000000                2973.000000   \n",
       "mean            14.567916            13.453162                   9.649260   \n",
       "std             54.331970            55.633132                  41.032386   \n",
       "min            -88.863900           -92.662800                 -87.243200   \n",
       "25%             -9.069600            -9.606100                  -5.173900   \n",
       "50%              6.682900             6.222550                   3.798900   \n",
       "75%             22.791775            22.167975                  15.207600   \n",
       "max            617.505700           627.952200                 709.623700   \n",
       "\n",
       "       IQ_NPPE_3YR_ANN_CAGR  IQ_COMMON_EQUITY_3YR_ANN_CAGR  \\\n",
       "count           2724.000000                    3240.000000   \n",
       "mean              28.361572                      10.602573   \n",
       "std               66.148349                      61.208546   \n",
       "min              -87.880800                     -85.793900   \n",
       "25%                3.737225                      -2.689775   \n",
       "50%               13.324600                       4.679100   \n",
       "75%               35.031100                      14.133350   \n",
       "max             1867.387800                    2126.072300   \n",
       "\n",
       "       IQ_TOTAL_ASSETS_3YR_ANN_CAGR  RnD_OVER_TA_CAT  \n",
       "count                   3580.000000      4647.000000  \n",
       "mean                      16.517664         0.268130  \n",
       "std                       95.760130         0.443033  \n",
       "min                      -47.772200         0.000000  \n",
       "25%                        0.332300         0.000000  \n",
       "50%                        7.019300         0.000000  \n",
       "75%                       17.093800         1.000000  \n",
       "max                     4759.050700         1.000000  \n",
       "\n",
       "[8 rows x 62 columns]"
      ]
     },
     "execution_count": 4,
     "metadata": {},
     "output_type": "execute_result"
    }
   ],
   "source": [
    "df.describe()"
   ]
  },
  {
   "cell_type": "code",
   "execution_count": 5,
   "metadata": {},
   "outputs": [],
   "source": [
    "Y = df.iloc[:,5:6]\n",
    "X = df.iloc[:,6:]"
   ]
  },
  {
   "cell_type": "code",
   "execution_count": 6,
   "metadata": {},
   "outputs": [
    {
     "data": {
      "text/plain": [
       "0       0\n",
       "1       0\n",
       "2       1\n",
       "3       0\n",
       "4       0\n",
       "       ..\n",
       "4642    1\n",
       "4643    1\n",
       "4644    0\n",
       "4645    0\n",
       "4646    0\n",
       "Name: RnD_OVER_TA_CAT, Length: 4647, dtype: int32"
      ]
     },
     "execution_count": 6,
     "metadata": {},
     "output_type": "execute_result"
    }
   ],
   "source": [
    "df['RnD_OVER_TA_CAT']"
   ]
  },
  {
   "cell_type": "code",
   "execution_count": 7,
   "metadata": {},
   "outputs": [
    {
     "data": {
      "text/html": [
       "<div>\n",
       "<style scoped>\n",
       "    .dataframe tbody tr th:only-of-type {\n",
       "        vertical-align: middle;\n",
       "    }\n",
       "\n",
       "    .dataframe tbody tr th {\n",
       "        vertical-align: top;\n",
       "    }\n",
       "\n",
       "    .dataframe thead th {\n",
       "        text-align: right;\n",
       "    }\n",
       "</style>\n",
       "<table border=\"1\" class=\"dataframe\">\n",
       "  <thead>\n",
       "    <tr style=\"text-align: right;\">\n",
       "      <th></th>\n",
       "      <th>RnD_OVER_TA</th>\n",
       "    </tr>\n",
       "  </thead>\n",
       "  <tbody>\n",
       "    <tr>\n",
       "      <th>0</th>\n",
       "      <td>0</td>\n",
       "    </tr>\n",
       "    <tr>\n",
       "      <th>1</th>\n",
       "      <td>0</td>\n",
       "    </tr>\n",
       "    <tr>\n",
       "      <th>2</th>\n",
       "      <td>1</td>\n",
       "    </tr>\n",
       "    <tr>\n",
       "      <th>3</th>\n",
       "      <td>0</td>\n",
       "    </tr>\n",
       "    <tr>\n",
       "      <th>4</th>\n",
       "      <td>0</td>\n",
       "    </tr>\n",
       "    <tr>\n",
       "      <th>...</th>\n",
       "      <td>...</td>\n",
       "    </tr>\n",
       "    <tr>\n",
       "      <th>4642</th>\n",
       "      <td>1</td>\n",
       "    </tr>\n",
       "    <tr>\n",
       "      <th>4643</th>\n",
       "      <td>1</td>\n",
       "    </tr>\n",
       "    <tr>\n",
       "      <th>4644</th>\n",
       "      <td>0</td>\n",
       "    </tr>\n",
       "    <tr>\n",
       "      <th>4645</th>\n",
       "      <td>0</td>\n",
       "    </tr>\n",
       "    <tr>\n",
       "      <th>4646</th>\n",
       "      <td>0</td>\n",
       "    </tr>\n",
       "  </tbody>\n",
       "</table>\n",
       "<p>4647 rows × 1 columns</p>\n",
       "</div>"
      ],
      "text/plain": [
       "      RnD_OVER_TA\n",
       "0               0\n",
       "1               0\n",
       "2               1\n",
       "3               0\n",
       "4               0\n",
       "...           ...\n",
       "4642            1\n",
       "4643            1\n",
       "4644            0\n",
       "4645            0\n",
       "4646            0\n",
       "\n",
       "[4647 rows x 1 columns]"
      ]
     },
     "execution_count": 7,
     "metadata": {},
     "output_type": "execute_result"
    }
   ],
   "source": [
    "tmp = np.where(df['RnD_OVER_TA']>0,1,0)\n",
    "Y_cat = pd.DataFrame(tmp,columns  = ['RnD_OVER_TA'])\n",
    "Y_cat"
   ]
  },
  {
   "cell_type": "markdown",
   "metadata": {},
   "source": [
    "### Data set EDA"
   ]
  },
  {
   "cell_type": "code",
   "execution_count": 8,
   "metadata": {},
   "outputs": [
    {
     "data": {
      "text/plain": [
       "<AxesSubplot:xlabel='RnD_OVER_TA', ylabel='count'>"
      ]
     },
     "execution_count": 8,
     "metadata": {},
     "output_type": "execute_result"
    },
    {
     "data": {
      "image/png": "[encoded data removed]",
      "text/plain": [
       "<Figure size 432x288 with 1 Axes>"
      ]
     },
     "metadata": {
      "needs_background": "light"
     },
     "output_type": "display_data"
    }
   ],
   "source": [
    "# see portion of companies in each quater with R&D Expanse\n",
    "sns.countplot('RnD_OVER_TA',data = Y_cat)"
   ]
  },
  {
   "cell_type": "code",
   "execution_count": 9,
   "metadata": {},
   "outputs": [],
   "source": [
    "#X['IQ_RETURN_ASSETS'].plot(kind='hist',bins=100,figsize=(15,5),title='distr of IQ_RETURN_ASSETS')"
   ]
  },
  {
   "cell_type": "code",
   "execution_count": 10,
   "metadata": {},
   "outputs": [
    {
     "name": "stdout",
     "output_type": "stream",
     "text": [
      "company\n",
      "company_name\n",
      "period\n",
      "industry\n",
      "4\n"
     ]
    }
   ],
   "source": [
    "### LabelEncoder convert categorical type data\n",
    "i = 0\n",
    "for col in df.columns:\n",
    "    if df[col].dtype == \"object\":\n",
    "        print(col)\n",
    "        i = i+1\n",
    "print(i)"
   ]
  },
  {
   "cell_type": "code",
   "execution_count": 11,
   "metadata": {},
   "outputs": [],
   "source": [
    "### count number of NaN, if more than 30%, remove such column\n",
    "def clean_nan(df):\n",
    "    tmp_cols = []\n",
    "    for col in df.columns:\n",
    "        counter = df[col].isnull().sum()\n",
    "        ratio = counter / len(df[col])\n",
    "        if ratio > 0.3:\n",
    "            tmp_cols.append(col)\n",
    "    print(tmp_cols)     \n",
    "    new_df = df.drop(tmp_cols,axis=1)\n",
    "    return new_df"
   ]
  },
  {
   "cell_type": "code",
   "execution_count": 12,
   "metadata": {},
   "outputs": [],
   "source": [
    "### count number of zero, if more than 30%, remove such column\n",
    "def clean_zero(df):\n",
    "    tmp_cols = []\n",
    "    for col in df.columns:\n",
    "        counter = (df[col] == 0).sum()\n",
    "        ratio = counter / len(df[col])\n",
    "        if ratio > 0.3:\n",
    "            tmp_cols.append(col)     \n",
    "    new_df = df.drop(tmp_cols,axis=1)\n",
    "    print(tmp_cols)\n",
    "    return new_df"
   ]
  },
  {
   "cell_type": "code",
   "execution_count": 13,
   "metadata": {},
   "outputs": [],
   "source": [
    "### drop rows with 0 IQ_TOTAL_ASSETS\n",
    "def clean_TOTAL_ASSETS(df):\n",
    "    df = df[df['IQ_TOTAL_ASSETS'].notna()]\n",
    "    #df = df[df['IQ_GROSS_MARGIN'].notna()]\n",
    "    #df = df[df.IQ_TOTAL_ASSETS>0]\n",
    "    new_df = df\n",
    "    return new_df"
   ]
  },
  {
   "cell_type": "code",
   "execution_count": 14,
   "metadata": {},
   "outputs": [],
   "source": [
    "# Delete rows containing either 30% or more than 30% NaN Values\n",
    "perc = 30.0 # Here N is 75\n",
    "min_count =  int(((100-perc)/100)*df.shape[1] + 1)\n",
    "#df = df.dropna( axis=0, \n",
    "                    #thresh=min_count)"
   ]
  },
  {
   "cell_type": "code",
   "execution_count": 15,
   "metadata": {},
   "outputs": [
    {
     "name": "stdout",
     "output_type": "stream",
     "text": [
      "original shape:  (4647, 66)\n"
     ]
    }
   ],
   "source": [
    "print('original shape: ',df.shape)"
   ]
  },
  {
   "cell_type": "code",
   "execution_count": 16,
   "metadata": {},
   "outputs": [],
   "source": [
    "### for those columns with majority element that is \n",
    "### more than 90% of the whole column, remove the column\n",
    "\n",
    "def clean_top_cols(df):\n",
    "    cols_to_remove = [col for col in df.columns if df[col].value_counts(dropna=False,normalize=True).values[0]>0.9]\n",
    "    return cols_to_remove"
   ]
  },
  {
   "cell_type": "code",
   "execution_count": 17,
   "metadata": {},
   "outputs": [],
   "source": [
    "#col_to_remove = clean_top_cols(df)\n",
    "#len(col_to_remove)"
   ]
  },
  {
   "cell_type": "code",
   "execution_count": 18,
   "metadata": {},
   "outputs": [],
   "source": [
    "### note dont remove the target col\n",
    "#col_to_remove"
   ]
  },
  {
   "cell_type": "code",
   "execution_count": 19,
   "metadata": {},
   "outputs": [],
   "source": [
    "#df = df.drop(col_to_remove,axis=1)\n"
   ]
  },
  {
   "cell_type": "code",
   "execution_count": 20,
   "metadata": {},
   "outputs": [],
   "source": [
    "### LabelEncoder\n",
    "encoder = LabelEncoder()\n",
    "\n",
    "#encoder.fit(list(df['industry'].values))\n",
    "#df['industry'] = encoder.transform(list(df['industry'].values))\n",
    "\n",
    "#encoder.fit(list(df['period'].values))\n",
    "#df['period'] = encoder.transform(list(df['period'].values))\n",
    "\n",
    "#encoder.fit(list(df['company'].values))\n",
    "#df['company'] = encoder.transform(list(df['company'].values))\n",
    "\n",
    "        \n",
    "df = df.reset_index()"
   ]
  },
  {
   "cell_type": "code",
   "execution_count": 21,
   "metadata": {},
   "outputs": [
    {
     "data": {
      "text/plain": [
       "\"\\ndf = df.drop(['industry','company_name','IQ_EBITA_MARGIN','IQ_EBIT_MARGIN','IQ_NI_NORM_MARGIN'\\n              ,'IQ_NI_AVAIL_EXCL_MARGIN','IQ_UFCF_MARGIN','IQ_ASSET_TURNS','IQ_EBIT_INT','IQ_EBITDA_INT'\\n              ,'IQ_TOTAL_DEBT_EBITDA','IQ_NET_DEBT_EBITDA','IQ_TOTAL_DEBT_EBITDA_CAPEX','IQ_EBITA_1YR_ANN_GROWTH'\\n              ,'IQ_EBIT_1YR_ANN_GROWTH','IQ_NI_NORM_1YR_ANN_GROWTH'], axis=1)\\n              \\n\""
      ]
     },
     "execution_count": 21,
     "metadata": {},
     "output_type": "execute_result"
    }
   ],
   "source": [
    "cols = ['industry_Communication Services','industry_Consumer Discretionary','industry_Consumer Staples',\n",
    "        'industry_Energy','industry_Financials','industry_Health Care','industry_Industrials','industry_Information Technology',\n",
    "        'industry_Materials','industry_Real Estate','industry_Utilities']\n",
    "tmp2 = pd.get_dummies(pd.DataFrame(df['industry']))[cols]\n",
    "df = pd.concat([df,tmp2],axis=1)\n",
    "RnD_OVER_TA_CAT_tmp = df['RnD_OVER_TA_CAT']\n",
    "df = df.drop('RnD_OVER_TA_CAT', axis=1)\n",
    "df['RnD_OVER_TA_CAT'] = RnD_OVER_TA_CAT_tmp\n",
    "'''\n",
    "df = df.drop(['industry','company_name','IQ_EBITA_MARGIN','IQ_EBIT_MARGIN','IQ_NI_NORM_MARGIN'\n",
    "              ,'IQ_NI_AVAIL_EXCL_MARGIN','IQ_UFCF_MARGIN','IQ_ASSET_TURNS','IQ_EBIT_INT','IQ_EBITDA_INT'\n",
    "              ,'IQ_TOTAL_DEBT_EBITDA','IQ_NET_DEBT_EBITDA','IQ_TOTAL_DEBT_EBITDA_CAPEX','IQ_EBITA_1YR_ANN_GROWTH'\n",
    "              ,'IQ_EBIT_1YR_ANN_GROWTH','IQ_NI_NORM_1YR_ANN_GROWTH'], axis=1)\n",
    "              \n",
    "'''\n",
    "\n",
    "\n"
   ]
  },
  {
   "cell_type": "code",
   "execution_count": 22,
   "metadata": {},
   "outputs": [],
   "source": [
    "#fill with column mean values\n",
    "df = clean_TOTAL_ASSETS(df)\n",
    "df = df.apply(pd.to_numeric, errors='coerce')\n",
    "df.dtypes\n",
    "df = df.apply(lambda x: x.fillna(x.mean()),axis=0)\n",
    "df = df.drop(['company_name','industry','period','RnD_OVER_TA','IQ_RD_EXP'],axis=1)\n",
    "df['company'] = company_tmp"
   ]
  },
  {
   "cell_type": "code",
   "execution_count": 23,
   "metadata": {},
   "outputs": [],
   "source": [
    "df.to_csv(year+'.csv')"
   ]
  },
  {
   "cell_type": "markdown",
   "metadata": {},
   "source": [
    "#### "
   ]
  }
 ],
 "metadata": {
  "kernelspec": {
   "display_name": "Python 3 (ipykernel)",
   "language": "python",
   "name": "python3"
  },
  "language_info": {
   "codemirror_mode": {
    "name": "ipython",
    "version": 3
   },
   "file_extension": ".py",
   "mimetype": "text/x-python",
   "name": "python",
   "nbconvert_exporter": "python",
   "pygments_lexer": "ipython3",
   "version": "3.9.12"
  }
 },
 "nbformat": 4,
 "nbformat_minor": 4
}
